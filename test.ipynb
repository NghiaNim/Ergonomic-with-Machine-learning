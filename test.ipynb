{
  "nbformat": 4,
  "nbformat_minor": 0,
  "metadata": {
    "colab": {
      "name": "test.ipynb",
      "provenance": [],
      "collapsed_sections": []
    },
    "kernelspec": {
      "name": "python3",
      "display_name": "Python 3"
    },
    "accelerator": "GPU"
  },
  "cells": [
    {
      "cell_type": "code",
      "metadata": {
        "id": "bE9o8829z9y7"
      },
      "source": [
        "from google.colab import drive\n",
        "drive.mount('/content/gdrive')\n",
        "\n",
        "!pip3 install torch==1.1.0 torchvision==0.3.0\n",
        "!cd ../content/gdrive/My Drive/AlphaPose\n",
        "!export PATH=/usr/local/cuda/bin/:$PATH\n",
        "!export LD_LIBRARY_PATH=/usr/local/cuda/lib64/:$LD_LIBRARY_PATH\n",
        "!pip install cython\n",
        "\n",
        "!pip install -U PyYAML\n",
        "!pip install \"pillow<7\""
      ],
      "execution_count": null,
      "outputs": []
    },
    {
      "cell_type": "code",
      "metadata": {
        "id": "mbLBvvqnxxeb"
      },
      "source": [
        "!cd ../content/gdrive/My Drive/AlphaPose\n",
        "!sudo apt-get install libyaml-dev\n",
        "!python setup.py build develop --user"
      ],
      "execution_count": null,
      "outputs": []
    },
    {
      "cell_type": "code",
      "metadata": {
        "id": "Iy7U9cVHvFkj",
        "outputId": "cfc87052-f299-49f4-bfbe-6df5c184d54b",
        "colab": {
          "base_uri": "https://localhost:8080/",
          "height": 34
        }
      },
      "source": [
        "cd ../content/gdrive/My Drive/AlphaPose"
      ],
      "execution_count": null,
      "outputs": [
        {
          "output_type": "stream",
          "text": [
            "/content/gdrive/My Drive/AlphaPose\n"
          ],
          "name": "stdout"
        }
      ]
    },
    {
      "cell_type": "code",
      "metadata": {
        "id": "K2yjxqSJpF8w",
        "outputId": "f73404c3-91c4-4d7e-896c-1dc84704d577",
        "colab": {
          "base_uri": "https://localhost:8080/",
          "height": 306
        }
      },
      "source": [
        "!python scripts/demo_inference.py --cfg configs/coco/resnet/256x192_res50_lr1e-3_1x.yaml --checkpoint pretrained_models/fast_res50_256x192.pth --video examples/video_data/040549-040604.mp4 --outdir examples/res --save_video"
      ],
      "execution_count": null,
      "outputs": [
        {
          "output_type": "stream",
          "text": [
            "Downloading: \"https://download.pytorch.org/models/resnet50-19c8e357.pth\" to /root/.cache/torch/checkpoints/resnet50-19c8e357.pth\n",
            "100% 102502400/102502400 [00:02<00:00, 43364634.83it/s]\n",
            "Loading YOLO model..\n",
            "Loading pose model from pretrained_models/fast_res50_256x192.pth...\n",
            "  7% 16/239 [00:03<01:08,  3.24it/s]Could not find encoder for codec id 27: Encoder not found\n",
            "Try to use other video encoders...\n",
            "100% 239/239 [01:15<00:00,  3.18it/s]\n",
            "===========================> Finish Model Running.\n",
            "===========================> Rendering remaining images in the queue...\n",
            "===========================> If this step takes too long, you can enable the --vis_fast flag to use fast rendering (real-time).\n",
            "===========================> Rendering remaining 191 images in the queue...\n",
            "===========================> Rendering remaining 190 images in the queue...\n",
            "===========================> Rendering remaining 189 images in the queue...\n",
            "===========================> Rendering remaining 189 images in the queue...\n",
            "===========================> Rendering remaining 188 images in the queue...\n",
            "===========================> Rendering remaining 186 images in the queue...\n",
            "Results have been written to json.\n"
          ],
          "name": "stdout"
        }
      ]
    },
    {
      "cell_type": "code",
      "metadata": {
        "id": "yk8XknjVmpxQ"
      },
      "source": [
        "!python scripts/demo_inference.py --cfg configs/coco/resnet/256x192_res50_lr1e-3_1x.yaml --checkpoint pretrained_models/fast_res50_256x192.pth --video examples/video_data/040549-040604.mp4 --outdir examples/res --save_video"
      ],
      "execution_count": null,
      "outputs": []
    },
    {
      "cell_type": "code",
      "metadata": {
        "id": "3JJsbsKy6Zkw"
      },
      "source": [
        "!python scripts/demo_inference.py --cfg configs/coco/resnet/256x192_res50_lr1e-3_1x.yaml --checkpoint pretrained_models/fast_res50_256x192.pth --indir examples/demo/"
      ],
      "execution_count": null,
      "outputs": []
    },
    {
      "cell_type": "code",
      "metadata": {
        "id": "HQr7qiGnhz8H"
      },
      "source": [
        "!python scripts/demo_inference.py --cfg configs/coco/resnet/256x192_res50_lr1e-3_1x.yaml --checkpoint pretrained_models/fast_res50_256x192.pth --indir examples/demo/"
      ],
      "execution_count": null,
      "outputs": []
    }
  ]
}